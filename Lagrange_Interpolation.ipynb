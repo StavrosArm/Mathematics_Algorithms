{
 "cells": [
  {
   "cell_type": "code",
   "execution_count": 3,
   "metadata": {},
   "outputs": [
    {
     "data": {
      "text/plain": [
       "Chebysev_points (generic function with 1 method)"
      ]
     },
     "metadata": {},
     "output_type": "display_data"
    }
   ],
   "source": [
    "function Chebysev_points(x)\n",
    "    y=[]\n",
    "    n=length(x)\n",
    "    for i in 1:length(x)\n",
    "        y.push!(cos((2*i-1)*pi/(2*n)))\n",
    "    end\n",
    "    return y\n",
    "end"
   ]
  },
  {
   "cell_type": "code",
   "execution_count": null,
   "metadata": {},
   "outputs": [],
   "source": [
    "function Lagrange_Interpolation(x,y,z)\n",
    "    values=similar(z,size(z,1))\n",
    "    for k in 1:length(z)\n",
    "        for i in 1:length(x)\n",
    "            prod=1\n",
    "            for j in length(y)\n",
    "                if (i!=j)\n",
    "                    prod*=(z[k]-x[j])/(x[i]-x[j])\n",
    "                end\n",
    "            end\n",
    "            values[k]+=prod*y[i]\n",
    "            "
   ]
  }
 ],
 "metadata": {
  "kernelspec": {
   "display_name": "Julia 1.10.0",
   "language": "julia",
   "name": "julia-1.10"
  },
  "language_info": {
   "file_extension": ".jl",
   "mimetype": "application/julia",
   "name": "julia",
   "version": "1.10.0"
  }
 },
 "nbformat": 4,
 "nbformat_minor": 2
}
